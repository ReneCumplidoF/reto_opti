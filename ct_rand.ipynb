{
 "cells": [
  {
   "cell_type": "code",
   "execution_count": 8,
   "id": "e6a174b7",
   "metadata": {},
   "outputs": [],
   "source": [
    "import random\n",
    "import json"
   ]
  },
  {
   "cell_type": "code",
   "execution_count": 9,
   "id": "7c4fdcdc",
   "metadata": {},
   "outputs": [],
   "source": [
    "def generar_escenario_plantacion():\n",
    "    \"\"\"\n",
    "    Genera un escenario aleatorio de 10 especies que suma 658,\n",
    "    respetando la restricción de +/- 10% por especie.\n",
    "    \"\"\"\n",
    "    \n",
    "    especies_config = {\n",
    "        'Agave lechuguilla':    {'base': 42,  'min': 38, 'max': 46},\n",
    "        'Agave salmiana':       {'base': 196, 'min': 176, 'max': 216}, #variable de holgura\n",
    "        'Agave scabra':         {'base': 42,  'min': 38, 'max': 46},\n",
    "        'Agave striata':        {'base': 42,  'min': 38, 'max': 46},\n",
    "        'Opuntia cantabrigiensis': {'base': 49,  'min': 44, 'max': 54},\n",
    "        'Opuntia engelmannii':  {'base': 38,  'min': 34, 'max': 42},\n",
    "        'Opuntia robusta':      {'base': 73,  'min': 66, 'max': 80},\n",
    "        'Opuntia streptacantha':{'base': 64,  'min': 58, 'max': 70},\n",
    "        'Prosopis laevigata':   {'base': 86,  'min': 77, 'max': 95},\n",
    "        'Yucca filifera':       {'base': 26,  'min': 23, 'max': 29} \n",
    "    }\n",
    "\n",
    "    TOTAL_PLANTAS = 658 \n",
    "    \n",
    "    #variable de holgura\n",
    "    especie_holgura = 'Agave salmiana'\n",
    "    limites_holgura = especies_config[especie_holgura]\n",
    "    \n",
    "    escenario_valido = False\n",
    "    while not escenario_valido:\n",
    "        escenario_actual = {}\n",
    "        suma_parcial = 0\n",
    "        \n",
    "        #generar cantidades para las primeras 9 especies\n",
    "        for especie, config in especies_config.items():\n",
    "            if especie == especie_holgura:\n",
    "                continue\n",
    "            \n",
    "            #genera un entero aleatorio en el rango [min, max]\n",
    "            cantidad = random.randint(config['min'], config['max'])\n",
    "            escenario_actual[especie] = cantidad\n",
    "            suma_parcial += cantidad\n",
    "\n",
    "        # calcular la especie de holgura\n",
    "        cantidad_holgura = TOTAL_PLANTAS - suma_parcial\n",
    "        \n",
    "        #validar la especie de holgura\n",
    "        if limites_holgura['min'] <= cantidad_holgura <= limites_holgura['max']:\n",
    "            escenario_valido = True\n",
    "            escenario_actual[especie_holgura] = cantidad_holgura\n",
    "            \n",
    "            # verificación final\n",
    "            suma_total = sum(escenario_actual.values())\n",
    "            if suma_total == TOTAL_PLANTAS:\n",
    "                return escenario_actual\n",
    "            else:\n",
    "                escenario_valido = False\n",
    "                \n",
    "    return escenario_actual\n"
   ]
  },
  {
   "cell_type": "code",
   "execution_count": 10,
   "id": "b4df3b2b",
   "metadata": {},
   "outputs": [
    {
     "name": "stdout",
     "output_type": "stream",
     "text": [
      "Generando 15 distribuciones...\n",
      "   -> Distribucion 1\n",
      "   -> Distribucion 2\n",
      "   -> Distribucion 3\n",
      "   -> Distribucion 4\n",
      "   -> Distribucion 5\n",
      "   -> Distribucion 6\n",
      "   -> Distribucion 7\n",
      "   -> Distribucion 8\n",
      "   -> Distribucion 9\n",
      "   -> Distribucion 10\n",
      "   -> Distribucion 11\n",
      "   -> Distribucion 12\n",
      "   -> Distribucion 13\n",
      "   -> Distribucion 14\n",
      "   -> Distribucion 15\n",
      "\n",
      "¡Listo! Los 15 escenarios se han guardado en el archivo 'plantacion.json'\n"
     ]
    }
   ],
   "source": [
    "cts = []\n",
    "N = 15\n",
    "\n",
    "print(f\"Generando {N} distribuciones...\")\n",
    "\n",
    "for i in range(N):\n",
    "    escenario_valido = generar_escenario_plantacion()\n",
    "    escenario_valido['id_escenario'] = i + 1\n",
    "    \n",
    "    cts.append(escenario_valido)\n",
    "    print(f\"   -> Distribucion {i+1}\")\n",
    "\n",
    "nombre_archivo = \"plantacion.json\"\n",
    "with open(nombre_archivo, 'w', encoding='utf-8') as f:\n",
    "    json.dump(cts, f, indent=4)\n",
    "\n",
    "print(f\"\\n¡Listo! Los {N} escenarios se han guardado en el archivo '{nombre_archivo}'\")"
   ]
  }
 ],
 "metadata": {
  "kernelspec": {
   "display_name": "Python 3",
   "language": "python",
   "name": "python3"
  },
  "language_info": {
   "codemirror_mode": {
    "name": "ipython",
    "version": 3
   },
   "file_extension": ".py",
   "mimetype": "text/x-python",
   "name": "python",
   "nbconvert_exporter": "python",
   "pygments_lexer": "ipython3",
   "version": "3.9.6"
  }
 },
 "nbformat": 4,
 "nbformat_minor": 5
}
